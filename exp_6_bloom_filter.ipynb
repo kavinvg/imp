{
  "nbformat": 4,
  "nbformat_minor": 0,
  "metadata": {
    "colab": {
      "provenance": []
    },
    "kernelspec": {
      "name": "python3",
      "display_name": "Python 3"
    },
    "language_info": {
      "name": "python"
    }
  },
  "cells": [
    {
      "cell_type": "code",
      "execution_count": 1,
      "metadata": {
        "colab": {
          "base_uri": "https://localhost:8080/"
        },
        "id": "I6dlP5MUhtGH",
        "outputId": "1e7ed54e-a98d-40f5-acd9-d1d856816915"
      },
      "outputs": [
        {
          "output_type": "stream",
          "name": "stdout",
          "text": [
            "Bloom filter created with size 100 and 5 hash functions.\n",
            "\n",
            "Adding 'apple' to the Bloom filter...\n",
            "'apple' added successfully.\n",
            "\n",
            "Adding 'banana' to the Bloom filter...\n",
            "'banana' added successfully.\n",
            "\n",
            "'apple' is possibly in the set (may be a false positive).\n",
            "'banana' is possibly in the set (may be a false positive).\n",
            "'cherry' is definitely not in the set.\n"
          ]
        },
        {
          "output_type": "execute_result",
          "data": {
            "text/plain": [
              "False"
            ]
          },
          "metadata": {},
          "execution_count": 1
        }
      ],
      "source": [
        "import hashlib\n",
        "\n",
        "class BloomFilter:\n",
        "    def __init__(self, size, hash_count):\n",
        "\n",
        "        self.size = size\n",
        "        self.hash_count = hash_count\n",
        "        self.bit_array = [0] * size\n",
        "        print(f\"Bloom filter created with size {size} and {hash_count} hash functions.\\n\")\n",
        "\n",
        "    def _hashes(self, item):\n",
        "        \"\"\"\n",
        "        Generate hashes for the given item.\n",
        "\n",
        "        :param item: The item to hash.\n",
        "        :return: A list of hash positions.\n",
        "        \"\"\"\n",
        "        result = []\n",
        "        for i in range(self.hash_count):\n",
        "            hash_result = hashlib.md5(f\"{item}_{i}\".encode()).hexdigest()\n",
        "            result.append(int(hash_result, 16) % self.size)\n",
        "        return result\n",
        "\n",
        "    def add(self, item):\n",
        "        \"\"\"\n",
        "        Add an item to the Bloom filter.\n",
        "\n",
        "        :param item: The item to add.\n",
        "        \"\"\"\n",
        "        print(f\"Adding '{item}' to the Bloom filter...\")\n",
        "        for hash_value in self._hashes(item):\n",
        "            self.bit_array[hash_value] = 1\n",
        "        print(f\"'{item}' added successfully.\\n\")\n",
        "\n",
        "    def contains(self, item):\n",
        "        \"\"\"\n",
        "        Check if an item is in the Bloom filter.\n",
        "\n",
        "        :param item: The item to check.\n",
        "        :return: True if the item is possibly in the set, False if it is definitely not.\n",
        "        \"\"\"\n",
        "        is_present = all(self.bit_array[hash_value] for hash_value in self._hashes(item))\n",
        "        if is_present:\n",
        "            print(f\"'{item}' is possibly in the set (may be a false positive).\")\n",
        "        else:\n",
        "            print(f\"'{item}' is definitely not in the set.\")\n",
        "        return is_present\n",
        "\n",
        "# Example usage:\n",
        "bloom = BloomFilter(size=100, hash_count=5)\n",
        "bloom.add(\"apple\")\n",
        "bloom.add(\"banana\")\n",
        "\n",
        "bloom.contains(\"apple\")   # Output: 'apple' is possibly in the set (may be a false positive).\n",
        "bloom.contains(\"banana\")  # Output: 'banana' is possibly in the set (may be a false positive).\n",
        "bloom.contains(\"cherry\")  # Output: 'cherry' is de"
      ]
    }
  ]
}